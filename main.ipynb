{
 "cells": [
  {
   "cell_type": "code",
   "execution_count": 1,
   "metadata": {},
   "outputs": [],
   "source": [
    "import os\n",
    "from skimage import io\n",
    "from nets.gacn_net import GACN_Fuse\n",
    "def image_fusion(input_dir, output_dir):\n",
    "    \"\"\"\n",
    "    Double images fusion\n",
    "    :param input_dir: str, input dir with all images stores in one folder\n",
    "    :param output_dir: str, output dir with all fused images|\n",
    "    :return:\n",
    "    \"\"\"\n",
    "    gacn = GACN_Fuse()\n",
    "    images_name = sorted(list({item[:-6] for item in os.listdir(input_dir)}))\n",
    "    if not os.path.exists(output_dir):\n",
    "        os.makedirs(output_dir)\n",
    "    for image_name in images_name:\n",
    "        if not (image_name.startswith('.') or image_name == ''):\n",
    "            print(\"Fusing {}\".format(image_name))\n",
    "            img1 = io.imread(os.path.join(input_dir, image_name + \"_1.png\"))\n",
    "            img2 = io.imread(os.path.join(input_dir, image_name + \"_2.png\"))\n",
    "            fused = gacn.fuse(img1, img2)\n",
    "            io.imsave(os.path.join(output_dir, image_name + \".png\"),fused)\n",
    "\n",
    "def multi_image_fusion(input_dir, output_dir, strategy = \"calibration\"):\n",
    "    \"\"\"\n",
    "    Multi image fusion \n",
    "    :param input_dir: str, input dir with all images stores in one folder\n",
    "    :param output_dir: str, output dir with all fused images\n",
    "    :param strategy: str, fusion strategy:\n",
    "                    \"calibration\" means using Decision calibration fusion strategy\n",
    "                    \"origin\" means using one by one serial fusion strategy\n",
    "    :return:\n",
    "    \"\"\"  \n",
    "    gacn = GACN_Fuse()\n",
    "    if not os.path.exists(output_dir):\n",
    "        os.makedirs(output_dir)\n",
    "    images_path =  os.listdir(input_dir)\n",
    "    if \".ipynb_checkpoints\" in images_path:\n",
    "        images_path.remove(\".ipynb_checkpoints\")\n",
    "    for images in images_path:\n",
    "        final_path = os.path.join(input_dir, images)\n",
    "        a = time.time()\n",
    "        if strategy == \"calibration\":\n",
    "            fused = gacn.multi_fuse_calibration(final_path)\n",
    "        elif strategy == \"origin\":\n",
    "            fused = gacn.multi_fuse_origin(final_path)\n",
    "        else:\n",
    "            raise NameError(\"illegal fusion strategy\")\n",
    "        io.imsave(os.path.join(output_dir, images+\".png\"), fused)"
   ]
  },
  {
   "cell_type": "code",
   "execution_count": null,
   "metadata": {},
   "outputs": [],
   "source": [
    "if __name__ == \"__main__\":\n",
    "    \n",
    "    # Double images fusion\n",
    "    input_dir = os.path.join(os.getcwd(), \"data\", \"multi_focus\")\n",
    "    output_dir = os.path.join(os.getcwd(), \"data\", \"result\")\n",
    "    image_fusion(input_dir, output_dir)\n",
    "    \n",
    "    # Multi image fusion using Decision calibration fusion strategy\n",
    "    input_dir_multi = os.path.join(os.getcwd(), \"data\", \"material\")\n",
    "    output_dir_multi = os.path.join(os.getcwd(), \"data\", \"result\")\n",
    "    multi_image_fusion(input_dir_multi, output_dir_multi, \"calibration\")"
   ]
  }
 ],
 "metadata": {
  "kernelspec": {
   "display_name": "Python 3",
   "language": "python",
   "name": "python3"
  },
  "language_info": {
   "codemirror_mode": {
    "name": "ipython",
    "version": 3
   },
   "file_extension": ".py",
   "mimetype": "text/x-python",
   "name": "python",
   "nbconvert_exporter": "python",
   "pygments_lexer": "ipython3",
   "version": "3.6.8"
  }
 },
 "nbformat": 4,
 "nbformat_minor": 4
}
